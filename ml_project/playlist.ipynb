{
 "cells": [
  {
   "cell_type": "code",
   "execution_count": 1,
   "metadata": {},
   "outputs": [],
   "source": [
    "from  helpers import *\n",
    "import spotipy\n",
    "from spotipy import SpotifyClientCredentials, util\n",
    "import pandas as pd\n",
    "from requests.exceptions import ReadTimeout"
   ]
  },
  {
   "cell_type": "code",
   "execution_count": 2,
   "metadata": {
    "tags": []
   },
   "outputs": [],
   "source": [
    "client_id='e971b6de48d5499bac2529d9761b52b0'\n",
    "client_secret='ec9d1c8abcc840198288d9d41b814c4e'\n",
    "redirect_uri='http://example.com/'\n",
    "\n",
    "username = 'dcd5o4ufamndmadvnwllkt0lb'\n",
    "scope_playlist = 'playlist-modify-public'\n",
    "scope_user = 'user-library-modify'\n",
    "scope_playing = 'user-read-currently-playing'\n",
    "\n",
    "#Credentials to access the Spotify Music Data\n",
    "manager = SpotifyClientCredentials(client_id,client_secret)\n",
    "sp = spotipy.Spotify(client_credentials_manager=manager,requests_timeout=100, retries=10)\n",
    "\n",
    "#Credentials to access the actual song played\n",
    "token_actual = util.prompt_for_user_token(username,scope_playing,client_id,client_secret,redirect_uri) \n",
    "sp_actual = spotipy.Spotify(auth=token_actual,requests_timeout=100, retries=10)\n",
    "\n",
    "#Credentiasl to acces the library music \n",
    "token_user= util.prompt_for_user_token(username,scope_user,client_id,client_secret,redirect_uri) \n",
    "sp_user = spotipy.Spotify(auth=token_user,requests_timeout=100, retries=10)\n",
    "\n",
    "#Credentiasl to acces the Playlists Music\n",
    "token_playlist= util.prompt_for_user_token(username,scope_playlist,client_id,client_secret,redirect_uri) \n",
    "sp_playlist = spotipy.Spotify(auth=token_playlist,requests_timeout=100, retries=10)\n"
   ]
  },
  {
   "cell_type": "code",
   "execution_count": 3,
   "metadata": {},
   "outputs": [],
   "source": [
    "cluster_0 = pd.read_csv(\"data/cluster0.csv\")\n",
    "cluster_1 = pd.read_csv(\"data/cluster1.csv\")\n",
    "ids_0 = cluster_0['id'].tolist()\n",
    "ids_1 = cluster_1['id'].tolist()"
   ]
  },
  {
   "cell_type": "code",
   "execution_count": 4,
   "metadata": {
    "tags": []
   },
   "outputs": [],
   "source": [
    "radiohead_energy = sp_playlist.user_playlist_create(username,\"Radiohead Energized:)\")\n",
    "radiohead_relaxed = sp_playlist.user_playlist_create(username,\"Radiohead Relaxed:)\")\n"
   ]
  },
  {
   "cell_type": "code",
   "execution_count": 5,
   "metadata": {},
   "outputs": [
    {
     "data": {
      "text/plain": [
       "{'snapshot_id': 'NCwzZDZlYTg4ZTUxY2ZlZDgyMWZhN2Q3Y2Q2YzcwZTEyODczMTI3NGEz'}"
      ]
     },
     "execution_count": 5,
     "metadata": {},
     "output_type": "execute_result"
    }
   ],
   "source": [
    "sp_playlist.user_playlist_add_tracks(username,'4VQMOVhJP7xEKM1y5H4YQM',ids_0[0:98],position=None)\n",
    "sp_playlist.user_playlist_add_tracks(username,'4VQMOVhJP7xEKM1y5H4YQM',ids_0[99:197],position=None)\n",
    "sp_playlist.user_playlist_add_tracks(username,'4VQMOVhJP7xEKM1y5H4YQM',ids_0[198:297],position=None)\n",
    "\n"
   ]
  },
  {
   "cell_type": "code",
   "execution_count": 8,
   "metadata": {},
   "outputs": [
    {
     "data": {
      "text/plain": [
       "{'snapshot_id': 'NCxlNWRkZDExZDU3NDhlMTA4YmFjN2JlNzIwMGJmMThlNDZjMmUwNzFh'}"
      ]
     },
     "execution_count": 8,
     "metadata": {},
     "output_type": "execute_result"
    }
   ],
   "source": [
    "sp_playlist.user_playlist_add_tracks(username,'0P5kYTgLdhrMq8UsEg4aYL',ids_1[0:98],position=None)\n",
    "sp_playlist.user_playlist_add_tracks(username,'0P5kYTgLdhrMq8UsEg4aYL',ids_1[99:197],position=None)\n",
    "sp_playlist.user_playlist_add_tracks(username,'0P5kYTgLdhrMq8UsEg4aYL',ids_1[198:297],position=None)\n"
   ]
  }
 ],
 "metadata": {
  "interpreter": {
   "hash": "ac59ebe37160ed0dfa835113d9b8498d9f09ceb179beaac4002f036b9467c963"
  },
  "kernelspec": {
   "display_name": "Python 3.8.2 32-bit",
   "language": "python",
   "name": "python3"
  },
  "language_info": {
   "codemirror_mode": {
    "name": "ipython",
    "version": 3
   },
   "file_extension": ".py",
   "mimetype": "text/x-python",
   "name": "python",
   "nbconvert_exporter": "python",
   "pygments_lexer": "ipython3",
   "version": "3.9.4"
  },
  "orig_nbformat": 2
 },
 "nbformat": 4,
 "nbformat_minor": 2
}
